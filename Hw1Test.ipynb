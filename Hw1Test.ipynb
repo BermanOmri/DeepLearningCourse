{
  "nbformat": 4,
  "nbformat_minor": 0,
  "metadata": {
    "colab": {
      "name": "Hw1Test",
      "provenance": [],
      "collapsed_sections": [],
      "mount_file_id": "1HJsjebVFOfxMHfI4oa_g-llThyGged8g",
      "authorship_tag": "ABX9TyPQ8pN8kb0nXDY7YkhT3L8y",
      "include_colab_link": true
    },
    "kernelspec": {
      "name": "python3",
      "display_name": "Python 3"
    },
    "accelerator": "GPU"
  },
  "cells": [
    {
      "cell_type": "markdown",
      "metadata": {
        "id": "view-in-github",
        "colab_type": "text"
      },
      "source": [
        "<a href=\"https://colab.research.google.com/github/BermanOmri/DeepLearningCourse/blob/main/Hw1Test.ipynb\" target=\"_parent\"><img src=\"https://colab.research.google.com/assets/colab-badge.svg\" alt=\"Open In Colab\"/></a>"
      ]
    },
    {
      "cell_type": "code",
      "metadata": {
        "id": "sti-Uc0FsogL"
      },
      "source": [
        "import os\n",
        "os.chdir('/content/drive/My Drive/DLCourse/Hw1')"
      ],
      "execution_count": 70,
      "outputs": []
    },
    {
      "cell_type": "code",
      "metadata": {
        "id": "wdjUQxY_rvhW",
        "outputId": "844150fb-99fb-4d0c-b7ff-2dfe580f68ea",
        "colab": {
          "base_uri": "https://localhost:8080/"
        }
      },
      "source": [
        "!ls"
      ],
      "execution_count": null,
      "outputs": [
        {
          "output_type": "stream",
          "text": [
            "Batch_Normalization.eps  hw1final.py\t   NetworksWeights.pkl\n",
            "data.h5\t\t\t hw1final.py.gdoc  No_Regularization.eps\n",
            "Droput.eps\t\t Hw1.ipynb\t   rawResults.csv\n",
            "finalResults.csv\t Hw1Test.ipynb\t   Weight_Decay.eps\n",
            "Hw1Final.ipynb\t\t LeNet5\n"
          ],
          "name": "stdout"
        }
      ]
    },
    {
      "cell_type": "code",
      "metadata": {
        "id": "pZILuAZozHpW",
        "outputId": "97591fc5-4793-42b6-c163-025c8ac08af1",
        "colab": {
          "base_uri": "https://localhost:8080/"
        }
      },
      "source": [
        "!python hw1final.py Train 2 Batch_Normalization True True "
      ],
      "execution_count": 71,
      "outputs": [
        {
          "output_type": "stream",
          "text": [
            "\tEpoch #1:\t Training Acc = 83.245\t Test Acc = 85.74000000000001\n",
            "\tEpoch #2:\t Training Acc = 88.14166666666667\t Test Acc = 87.96000000000001\n"
          ],
          "name": "stdout"
        }
      ]
    },
    {
      "cell_type": "code",
      "metadata": {
        "id": "vK_bufDIy5k6"
      },
      "source": [
        "!python hw1final.py Test NetworksWeights.pkl No_Regularization"
      ],
      "execution_count": null,
      "outputs": []
    }
  ]
}